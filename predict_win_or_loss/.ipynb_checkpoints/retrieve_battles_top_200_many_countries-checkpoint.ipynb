{
 "cells": [
  {
   "attachments": {
    "image.png": {
     "image/png": "[encoded data removed]"
    }
   },
   "cell_type": "markdown",
   "metadata": {},
   "source": [
    "![image.png](attachment:image.png)"
   ]
  },
  {
   "cell_type": "markdown",
   "metadata": {},
   "source": [
    "## Brawl Stars Data Science - Predict a win or loss for top players - Fetch the battle data"
   ]
  },
  {
   "cell_type": "markdown",
   "metadata": {},
   "source": [
    "This script connects with the official Brawl Stars API and retrieves various info about a player's latest matches with the purpose of designing an ML algorithm that will be able to predict if a match will end as a win or loss."
   ]
  },
  {
   "cell_type": "code",
   "execution_count": 1,
   "metadata": {},
   "outputs": [
    {
     "name": "stdout",
     "output_type": "stream",
     "text": [
      "Requirement already satisfied: brawlstats in c:\\users\\skoupras\\appdata\\local\\continuum\\anaconda3\\envs\\py37\\lib\\site-packages (4.1.0)\n",
      "Requirement already satisfied: python-box in c:\\users\\skoupras\\appdata\\local\\continuum\\anaconda3\\envs\\py37\\lib\\site-packages (from brawlstats) (5.3.0)\n",
      "Requirement already satisfied: requests in c:\\users\\skoupras\\appdata\\local\\continuum\\anaconda3\\envs\\py37\\lib\\site-packages (from brawlstats) (2.22.0)\n",
      "Requirement already satisfied: aiohttp<3.7.0,>=3.6.0 in c:\\users\\skoupras\\appdata\\local\\continuum\\anaconda3\\envs\\py37\\lib\\site-packages (from brawlstats) (3.6.3)\n",
      "Requirement already satisfied: cachetools>=3.1.0 in c:\\users\\skoupras\\appdata\\local\\continuum\\anaconda3\\envs\\py37\\lib\\site-packages (from brawlstats) (4.2.2)\n",
      "Requirement already satisfied: certifi>=2017.4.17 in c:\\users\\skoupras\\appdata\\local\\continuum\\anaconda3\\envs\\py37\\lib\\site-packages (from requests->brawlstats) (2020.12.5)\n",
      "Requirement already satisfied: idna<2.9,>=2.5 in c:\\users\\skoupras\\appdata\\local\\continuum\\anaconda3\\envs\\py37\\lib\\site-packages (from requests->brawlstats) (2.8)\n",
      "Requirement already satisfied: urllib3!=1.25.0,!=1.25.1,<1.26,>=1.21.1 in c:\\users\\skoupras\\appdata\\local\\continuum\\anaconda3\\envs\\py37\\lib\\site-packages (from requests->brawlstats) (1.25.7)\n",
      "Requirement already satisfied: chardet<3.1.0,>=3.0.2 in c:\\users\\skoupras\\appdata\\local\\continuum\\anaconda3\\envs\\py37\\lib\\site-packages (from requests->brawlstats) (3.0.4)\n",
      "Requirement already satisfied: async-timeout<4.0,>=3.0 in c:\\users\\skoupras\\appdata\\local\\continuum\\anaconda3\\envs\\py37\\lib\\site-packages (from aiohttp<3.7.0,>=3.6.0->brawlstats) (3.0.1)\n",
      "Requirement already satisfied: multidict<5.0,>=4.5 in c:\\users\\skoupras\\appdata\\local\\continuum\\anaconda3\\envs\\py37\\lib\\site-packages (from aiohttp<3.7.0,>=3.6.0->brawlstats) (4.7.6)\n",
      "Requirement already satisfied: yarl<1.6.0,>=1.0 in c:\\users\\skoupras\\appdata\\local\\continuum\\anaconda3\\envs\\py37\\lib\\site-packages (from aiohttp<3.7.0,>=3.6.0->brawlstats) (1.5.1)\n",
      "Requirement already satisfied: attrs>=17.3.0 in c:\\users\\skoupras\\appdata\\local\\continuum\\anaconda3\\envs\\py37\\lib\\site-packages (from aiohttp<3.7.0,>=3.6.0->brawlstats) (19.3.0)\n",
      "Requirement already satisfied: typing-extensions>=3.7.4; python_version < \"3.8\" in c:\\users\\skoupras\\appdata\\local\\continuum\\anaconda3\\envs\\py37\\lib\\site-packages (from yarl<1.6.0,>=1.0->aiohttp<3.7.0,>=3.6.0->brawlstats) (3.10.0.0)\n"
     ]
    }
   ],
   "source": [
    "# Install Libraries\n",
    "!pip install brawlstats"
   ]
  },
  {
   "cell_type": "code",
   "execution_count": null,
   "metadata": {},
   "outputs": [],
   "source": [
    "# Import libraries\n",
    "import brawlstats\n",
    "import numpy as np\n",
    "import pandas as pd\n",
    "from datetime import datetime\n",
    "\n",
    "# Import functions\n",
    "from parameters import *  # Change to parameters_template and add your API KEY.\n",
    "from utils.duplicate_battles import *\n",
    "from utils.save_battles import *"
   ]
  },
  {
   "cell_type": "code",
   "execution_count": null,
   "metadata": {},
   "outputs": [],
   "source": [
    "# Connect with the client using your unique token\n",
    "client = brawlstats.Client(api_token)"
   ]
  },
  {
   "cell_type": "code",
   "execution_count": null,
   "metadata": {},
   "outputs": [],
   "source": [
    "countries = ['world', 'us', 'gb', 'fr', 'de', 'br', 'es', 'it', 'sg', 'jp', \n",
    "             'cn', 'at', 'au', 'dk', 'ca', 'pr', 'kr', 'ru', 'hk', 'my', 'ua',\n",
    "             'ch', 'in', 'mx', 'ar', 'gr', 'ml', 'cl', 'nz'] "
   ]
  },
  {
   "cell_type": "code",
   "execution_count": null,
   "metadata": {},
   "outputs": [],
   "source": [
    "# Get IDs of top players in the world\n",
    "ids = pd.DataFrame(columns=['name','ID'])\n",
    "for country in countries:\n",
    "    top_players = client.get_rankings(ranking='players', region=country, limit=200)\n",
    "    for player in top_players:\n",
    "        temp_df = pd.DataFrame(data=np.array([player.name, player.tag]).reshape((1,2)),\n",
    "                               columns=['name','ID'])\n",
    "        ids = pd.concat([ids, temp_df])\n",
    "        \n",
    "ids.drop_duplicates(keep='first', inplace=True)\n",
    "\n",
    "ids.reset_index(drop=True, inplace=True)"
   ]
  },
  {
   "cell_type": "code",
   "execution_count": null,
   "metadata": {},
   "outputs": [],
   "source": [
    "ids = ids.tail(3500)"
   ]
  },
  {
   "cell_type": "code",
   "execution_count": null,
   "metadata": {},
   "outputs": [],
   "source": [
    "ids"
   ]
  },
  {
   "cell_type": "code",
   "execution_count": null,
   "metadata": {},
   "outputs": [],
   "source": [
    "all_data = pd.DataFrame(columns=df_columns)"
   ]
  },
  {
   "cell_type": "code",
   "execution_count": null,
   "metadata": {},
   "outputs": [],
   "source": [
    "# For each player, retrieve their match history\n",
    "\n",
    "for i in ids['ID']:\n",
    "    \n",
    "    # Prints for loop\n",
    "    print('')\n",
    "    print('**** Scanning player no {} out of {} ****'.format(ids[ids['ID']==i].index[0]+1, len(ids)))\n",
    "    print('Name: {}, ID: {}'.format(ids[ids['ID']==i].loc[ids[ids['ID']==i].index[0]]['name'], i))\n",
    "    \n",
    "    try:\n",
    "        # Get all the battles for a player\n",
    "        battles = client.get_battle_logs(i)\n",
    "        \n",
    "    except:\n",
    "        print('This ID is not recognised and will be skipped.')\n",
    "        continue\n",
    "    \n",
    "    # Loop the battles of a player\n",
    "    for j in range(0,len(battles.raw_data)):\n",
    "        \n",
    "        # Check if battle is valid\n",
    "        valid_battle = True\n",
    "        \n",
    "        # First Level of Filtering\n",
    "        # Not include Boss Fight\n",
    "        if battles.raw_data[j]['battle']['mode'] == 'bossFight':\n",
    "            valid_battle = False\n",
    "        # Not include Robo Rumble\n",
    "        if battles.raw_data[j]['battle']['mode'] == 'roboRumble':\n",
    "            valid_battle = False\n",
    "        # Not include Big Game\n",
    "        if battles.raw_data[j]['battle']['mode'] == 'bigGame':\n",
    "            valid_battle = False\n",
    "        \n",
    "        # Second Level of Filtering (\"type\" key is available)\n",
    "        if valid_battle:\n",
    "            # Not include friendly battles\n",
    "            if battles.raw_data[j]['battle']['type'] == 'friendly':\n",
    "                valid_battle = False\n",
    "            # Not include tournament battles\n",
    "            if battles.raw_data[j]['battle']['type'] == 'tournament':\n",
    "                valid_battle = False\n",
    "            # Not include Solo Showdown\n",
    "            if battles.raw_data[j]['battle']['mode'] == 'soloShowdown':\n",
    "                valid_battle = False\n",
    "            # Not include Duo Showdown\n",
    "            if battles.raw_data[j]['battle']['mode'] == 'duoShowdown':\n",
    "                valid_battle = False\n",
    "            # All event info should be available\n",
    "            if len(battles.raw_data[j]['event']) != 3:\n",
    "                valid_battle = False\n",
    "        \n",
    "        # Populate a placeholder df (battle_df) with all the battle information\n",
    "        if valid_battle:\n",
    "\n",
    "            # Store the info for the specific battle\n",
    "            battle_df = pd.DataFrame(data = np.zeros((1,len(df_columns))), columns=df_columns)\n",
    "\n",
    "            # General\n",
    "            battle_df['timestamp'] = battles.raw_data[j]['battleTime']\n",
    "            battle_df['event_id'] = battles.raw_data[j]['event']['id']\n",
    "            battle_df['mode'] = battles.raw_data[j]['event']['mode']\n",
    "            battle_df['map'] = battles.raw_data[j]['event']['map']\n",
    "            battle_df['type'] = battles.raw_data[j]['battle']['type']\n",
    "            # battle_df['result'] = battles.raw_data[j]['battle']['result']\n",
    "            \n",
    "            # Figure out if player is in team 1 or 2\n",
    "            id_in_team_1 = False\n",
    "            for k in range(0,3):\n",
    "                if i == battles.raw_data[j]['battle']['teams'][0][k]['tag']:\n",
    "                    id_in_team_1 = True\n",
    "            # battle_df['id_in_tm1'] = id_in_team_1\n",
    "\n",
    "            # Player specific\n",
    "            battle_df['pl1_tm1_brawler'] = battles.raw_data[j]['battle']['teams'][0][0]['brawler']['name']\n",
    "            battle_df['pl1_tm1_brwlr_trop'] = battles.raw_data[j]['battle']['teams'][0][0]['brawler']['trophies']\n",
    "            battle_df['pl1_tm1_brwlr_pwr'] = battles.raw_data[j]['battle']['teams'][0][0]['brawler']['power']\n",
    "\n",
    "            battle_df['pl2_tm1_brawler'] = battles.raw_data[j]['battle']['teams'][0][1]['brawler']['name']\n",
    "            battle_df['pl2_tm1_brwlr_trop'] = battles.raw_data[j]['battle']['teams'][0][1]['brawler']['trophies']\n",
    "            battle_df['pl2_tm1_brwlr_pwr'] = battles.raw_data[j]['battle']['teams'][0][1]['brawler']['power']\n",
    "\n",
    "            battle_df['pl3_tm1_brawler'] = battles.raw_data[j]['battle']['teams'][0][2]['brawler']['name']\n",
    "            battle_df['pl3_tm1_brwlr_trop'] = battles.raw_data[j]['battle']['teams'][0][2]['brawler']['trophies']\n",
    "            battle_df['pl3_tm1_brwlr_pwr'] = battles.raw_data[j]['battle']['teams'][0][2]['brawler']['power']\n",
    "\n",
    "            battle_df['pl1_tm2_brawler'] = battles.raw_data[j]['battle']['teams'][1][0]['brawler']['name']\n",
    "            battle_df['pl1_tm2_brwlr_trop'] = battles.raw_data[j]['battle']['teams'][1][0]['brawler']['trophies']\n",
    "            battle_df['pl1_tm2_brwlr_pwr'] = battles.raw_data[j]['battle']['teams'][1][0]['brawler']['power']\n",
    "\n",
    "            battle_df['pl2_tm2_brawler'] = battles.raw_data[j]['battle']['teams'][1][1]['brawler']['name']\n",
    "            battle_df['pl2_tm2_brwlr_trop'] = battles.raw_data[j]['battle']['teams'][1][1]['brawler']['trophies']\n",
    "            battle_df['pl2_tm2_brwlr_pwr'] = battles.raw_data[j]['battle']['teams'][1][1]['brawler']['power']\n",
    "\n",
    "            battle_df['pl3_tm2_brawler'] = battles.raw_data[j]['battle']['teams'][1][2]['brawler']['name']\n",
    "            battle_df['pl3_tm2_brwlr_trop'] = battles.raw_data[j]['battle']['teams'][1][2]['brawler']['trophies']\n",
    "            battle_df['pl3_tm2_brwlr_pwr'] = battles.raw_data[j]['battle']['teams'][1][2]['brawler']['power']\n",
    "\n",
    "            # Check if team 1 won\n",
    "            tm1_win = False\n",
    "            if (id_in_team_1 == True) and (battles.raw_data[j]['battle']['result'] == 'victory'):\n",
    "                tm1_win = True\n",
    "            if (id_in_team_1 == False) and (battles.raw_data[j]['battle']['result'] == 'defeat'):\n",
    "                tm1_win = True\n",
    "\n",
    "            battle_df['tm1_win'] = tm1_win\n",
    "            \n",
    "            # Add this battle to the df with all the battles\n",
    "            all_data = pd.concat([all_data, battle_df])\n",
    "            \n",
    "            all_data.reset_index(drop=True, inplace=True)"
   ]
  },
  {
   "cell_type": "code",
   "execution_count": null,
   "metadata": {},
   "outputs": [],
   "source": [
    "battles = client.get_battle_logs(i)"
   ]
  },
  {
   "cell_type": "code",
   "execution_count": null,
   "metadata": {},
   "outputs": [],
   "source": []
  },
  {
   "cell_type": "code",
   "execution_count": null,
   "metadata": {},
   "outputs": [],
   "source": [
    "# pd.set_option('display.max_rows', 4000)\n",
    "# pd.set_option('display.max_columns', 500)"
   ]
  },
  {
   "cell_type": "code",
   "execution_count": null,
   "metadata": {},
   "outputs": [],
   "source": [
    "all_data.sort_values(by='timestamp', inplace=True)"
   ]
  },
  {
   "cell_type": "code",
   "execution_count": null,
   "metadata": {},
   "outputs": [],
   "source": [
    "all_data['type'].value_counts()"
   ]
  },
  {
   "cell_type": "code",
   "execution_count": null,
   "metadata": {},
   "outputs": [],
   "source": [
    "# Keep only ladder games for simplicity\n",
    "all_data = all_data[all_data['type']=='ranked']"
   ]
  },
  {
   "cell_type": "code",
   "execution_count": null,
   "metadata": {},
   "outputs": [],
   "source": [
    "# Remove duplicate battles with the relevant function\n",
    "all_data = remove_duplicate_battles(all_data, verbose)"
   ]
  },
  {
   "cell_type": "code",
   "execution_count": null,
   "metadata": {},
   "outputs": [],
   "source": [
    "# Reset index to prepare for saving\n",
    "all_data.reset_index(drop=True, inplace=True)"
   ]
  },
  {
   "cell_type": "code",
   "execution_count": null,
   "metadata": {},
   "outputs": [],
   "source": [
    "# Drop columns that are not needed, in order to save space\n",
    "all_data.drop(columns = col_to_drop, inplace=True)"
   ]
  },
  {
   "cell_type": "code",
   "execution_count": null,
   "metadata": {},
   "outputs": [],
   "source": [
    "all_data"
   ]
  },
  {
   "cell_type": "code",
   "execution_count": null,
   "metadata": {},
   "outputs": [],
   "source": [
    "save_battles(all_data, loc, verbose)"
   ]
  },
  {
   "cell_type": "code",
   "execution_count": null,
   "metadata": {},
   "outputs": [],
   "source": []
  }
 ],
 "metadata": {
  "kernelspec": {
   "display_name": "Python 3",
   "language": "python",
   "name": "python3"
  },
  "language_info": {
   "codemirror_mode": {
    "name": "ipython",
    "version": 3
   },
   "file_extension": ".py",
   "mimetype": "text/x-python",
   "name": "python",
   "nbconvert_exporter": "python",
   "pygments_lexer": "ipython3",
   "version": "3.7.5"
  }
 },
 "nbformat": 4,
 "nbformat_minor": 2
}
